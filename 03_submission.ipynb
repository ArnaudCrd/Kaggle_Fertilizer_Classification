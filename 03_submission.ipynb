{
 "cells": [
  {
   "metadata": {},
   "cell_type": "markdown",
   "source": [
    "# 🧪 Prédiction de fertilisants – Kaggle Challenge\n",
    "**Auteur** : Arnaud Chéridi\n",
    "📅 Date : Juin 2025\n",
    "📍 Compétition : [Playground Series - Season 3, Episode 16](https://www.kaggle.com/competitions/playground-series-s3e16)\n",
    "🎯 Objectif : Prédire les 3 fertilisants les plus probables à partir de données agronomiques synthétiques.\n",
    "\n",
    "---"
   ],
   "id": "d58d01933a2f9101"
  },
  {
   "metadata": {},
   "cell_type": "markdown",
   "source": [
    "# Génération de la soumission Kaggle\n",
    "\n",
    "Ce notebook permet de charger le meilleur modèle entraîné précédemment, de générer les prédictions sur les données de test et d’exporter un fichier au format `.csv` pour soumission sur Kaggle."
   ],
   "id": "dcaa9a032c64ae54"
  },
  {
   "cell_type": "code",
   "id": "initial_id",
   "metadata": {
    "collapsed": true,
    "ExecuteTime": {
     "end_time": "2025-07-23T17:36:45.517379Z",
     "start_time": "2025-07-23T17:36:45.515263Z"
    }
   },
   "source": [
    "import pandas as pd\n",
    "import numpy as np\n",
    "import pickle"
   ],
   "outputs": [],
   "execution_count": 1
  },
  {
   "metadata": {
    "ExecuteTime": {
     "end_time": "2025-07-23T17:36:51.448455Z",
     "start_time": "2025-07-23T17:36:45.620299Z"
    }
   },
   "cell_type": "code",
   "source": [
    "train = pd.read_csv('data/train.csv')\n",
    "test = pd.read_csv('data/test.csv')\n",
    "\n",
    "with open('results_summary.pkl', 'rb') as file:\n",
    "    results_summary = pickle.load(file)\n",
    "\n",
    "with open('label_y.pkl', 'rb') as file:\n",
    "    label_encoder = pickle.load(file)"
   ],
   "id": "9c0f120e6c05df1a",
   "outputs": [],
   "execution_count": 2
  },
  {
   "metadata": {
    "ExecuteTime": {
     "end_time": "2025-07-23T17:36:51.581513Z",
     "start_time": "2025-07-23T17:36:51.477697Z"
    }
   },
   "cell_type": "code",
   "source": [
    "train['Fertilizer Encoded'] = label_encoder.transform(train['Fertilizer Name'])\n",
    "\n",
    "X = train.drop(columns=['Fertilizer Name', 'Fertilizer Encoded', 'id'])\n",
    "X_val = test.drop(columns=['id'])\n",
    "y = train['Fertilizer Encoded']"
   ],
   "id": "b98d44d4e58fe3ef",
   "outputs": [],
   "execution_count": 3
  },
  {
   "metadata": {},
   "cell_type": "markdown",
   "source": "## Chargement des quatre meilleurs modèles",
   "id": "4640f86441b7c3fe"
  },
  {
   "metadata": {},
   "cell_type": "markdown",
   "source": [
    "- Entrainement sur les données complètes\n",
    "- Prédiction\n",
    "- Sauvegarde des soumissions"
   ],
   "id": "51356dd69e08e8f5"
  },
  {
   "metadata": {
    "ExecuteTime": {
     "end_time": "2025-07-23T17:59:36.245248Z",
     "start_time": "2025-07-23T17:36:56.255787Z"
    }
   },
   "cell_type": "code",
   "source": [
    "top_4 = sorted(results_summary.items(), key=lambda x: x[1][\"accuracy\"], reverse=True)[:4]\n",
    "\n",
    "for model_name, model_info in top_4:\n",
    "    print(f\"\\n🔄 Traitement du modèle : {model_name}\")\n",
    "\n",
    "    # Récupération du modèle\n",
    "    model = model_info[\"model\"]\n",
    "\n",
    "    # Réentraînement complet sur X, y (optionnel si déjà fait)\n",
    "    model.fit(X, y)\n",
    "\n",
    "    # Prédictions de probabilité sur les données de validation/test\n",
    "    probas = model.predict_proba(X_val)\n",
    "\n",
    "    # Récupération des indices des 3 classes les plus probables\n",
    "    top3 = np.argsort(probas, axis=1)[:, -3:][:, ::-1]\n",
    "\n",
    "    # Transformation inverse pour retrouver les noms de classes\n",
    "    top3_labels = label_encoder.inverse_transform(top3.ravel()).reshape(top3.shape)\n",
    "\n",
    "    # Construction du DataFrame de soumission\n",
    "    submission = pd.DataFrame({\n",
    "        \"id\": test[\"id\"],  # Vérifie que test[\"id\"] est bien aligné avec X_val\n",
    "        \"Fertilizer Name\": [\" \".join(row) for row in top3_labels]\n",
    "    })\n",
    "\n",
    "    # Nom de fichier explicite\n",
    "    filename = f\"submission_{model_name.replace(' ', '_').lower()}.csv\"\n",
    "    submission.to_csv(filename, index=False)\n",
    "    print(f\"Fichier enregistré : {filename}\")"
   ],
   "id": "446908bd07a7c35f",
   "outputs": [
    {
     "name": "stdout",
     "output_type": "stream",
     "text": [
      "\n",
      "🔄 Traitement du modèle : GradientBoosting\n",
      "Fichier enregistré : submission_gradientboosting.csv\n",
      "\n",
      "🔄 Traitement du modèle : XGBoost\n"
     ]
    },
    {
     "name": "stderr",
     "output_type": "stream",
     "text": [
      "/opt/anaconda3/envs/Data_Science/lib/python3.11/site-packages/xgboost/core.py:158: UserWarning: [19:58:39] WARNING: /Users/runner/miniforge3/conda-bld/xgboost-split_1742444258230/work/src/learner.cc:740: \n",
      "Parameters: { \"use_label_encoder\" } are not used.\n",
      "\n",
      "  warnings.warn(smsg, UserWarning)\n"
     ]
    },
    {
     "name": "stdout",
     "output_type": "stream",
     "text": [
      "Fichier enregistré : submission_xgboost.csv\n",
      "\n",
      "🔄 Traitement du modèle : LightGBM\n",
      "[LightGBM] [Info] Auto-choosing row-wise multi-threading, the overhead of testing was 0.002025 seconds.\n",
      "You can set `force_row_wise=true` to remove the overhead.\n",
      "And if memory is not enough, you can set `force_col_wise=true`.\n",
      "[LightGBM] [Info] Total Bins 202\n",
      "[LightGBM] [Info] Number of data points in the train set: 750000, number of used features: 8\n",
      "[LightGBM] [Info] Start training from score -1.884866\n",
      "[LightGBM] [Info] Start training from score -1.880057\n",
      "[LightGBM] [Info] Start training from score -1.897538\n",
      "[LightGBM] [Info] Start training from score -1.911544\n",
      "[LightGBM] [Info] Start training from score -1.909121\n",
      "[LightGBM] [Info] Start training from score -2.067671\n",
      "[LightGBM] [Info] Start training from score -2.094845\n"
     ]
    },
    {
     "name": "stderr",
     "output_type": "stream",
     "text": [
      "/opt/anaconda3/envs/Data_Science/lib/python3.11/site-packages/sklearn/utils/validation.py:2739: UserWarning: X does not have valid feature names, but LGBMClassifier was fitted with feature names\n",
      "  warnings.warn(\n"
     ]
    },
    {
     "name": "stdout",
     "output_type": "stream",
     "text": [
      "Fichier enregistré : submission_lightgbm.csv\n",
      "\n",
      "🔄 Traitement du modèle : HistGradientBoosting\n",
      "Fichier enregistré : submission_histgradientboosting.csv\n"
     ]
    }
   ],
   "execution_count": 4
  },
  {
   "metadata": {},
   "cell_type": "markdown",
   "source": [
    "## Résultats Kaggle\n",
    "\n",
    "Les prédictions des 4 meilleurs modèles ont été soumises à la plateforme Kaggle pour évaluation. Voici les scores obtenus sur l’ensemble de test :\n",
    "\n",
    "| Modèle                     | Score public |\n",
    "|---------------------------|--------------|\n",
    "| Gradient Boosting         | **0.32935**  |\n",
    "| XGBoost                   | 0.32785      |\n",
    "| LightGBM                  | 0.32711      |\n",
    "| HistGradientBoosting      | 0.32701      |\n",
    "\n",
    "> **Gradient Boosting** obtient le meilleur score parmi les modèles testés, avec un score public de **0.32935**.\n",
    "\n",
    "Ces performances sont relativement proches les unes des autres, ce qui suggère que les modèles se heurtent à une limite commune — probablement liée à la qualité des features. Un enrichissement des données ou un feature engineering métier plus poussé serait nécessaire pour améliorer significativement les résultats."
   ],
   "id": "d1426d4700d85564"
  },
  {
   "metadata": {},
   "cell_type": "code",
   "outputs": [],
   "execution_count": null,
   "source": "",
   "id": "a14a7a4ebd2d8fd6"
  }
 ],
 "metadata": {
  "kernelspec": {
   "display_name": "Python 3",
   "language": "python",
   "name": "python3"
  },
  "language_info": {
   "codemirror_mode": {
    "name": "ipython",
    "version": 2
   },
   "file_extension": ".py",
   "mimetype": "text/x-python",
   "name": "python",
   "nbconvert_exporter": "python",
   "pygments_lexer": "ipython2",
   "version": "2.7.6"
  }
 },
 "nbformat": 4,
 "nbformat_minor": 5
}
